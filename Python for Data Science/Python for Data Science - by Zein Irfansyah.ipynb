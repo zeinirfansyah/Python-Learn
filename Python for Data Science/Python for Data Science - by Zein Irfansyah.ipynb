{
 "cells": [
  {
   "cell_type": "markdown",
   "metadata": {},
   "source": [
    "# 1. Variables, Basic Data Types, and Print"
   ]
  },
  {
   "cell_type": "markdown",
   "metadata": {},
   "source": [
    "Penggunaan variabel atau suatu objek yang bisa merepresentasikan sebuah nilai atau value sangat penting dalam bahasa pemrograman. Selain itu mempermudah dalam membaca source code, pemberian variable yang efisien juga akan membuat code berjalan optimal dan dinamis. Pada sesi kali ini kita akan belajar bagaimana cara inisialisasi variable dalam beberapa data type dan menampilkannya (print).\n",
    "\n",
    "Contoh tipe data :\n",
    "1. Boolean    : Menyatakan benar True yang bernilai 1, atau salah False yang bernilai 0\n",
    "2. String     : Menyatakan karakter/kalimat bisa berupa huruf angka, dll (diapit tanda \" atau ')\n",
    "3. Integer    : Menyatakan bilangan bulat\n",
    "4. FLoat      : Menyatakan bilangan berkoma/desimal\n",
    "5. List       : Data untaian yang menyimpan berbagai tipe data dan isinya bisa diubah-ubah\n",
    "6. Tuple      : Data untaian yang menyimpan berbagai tipe tapi isinya tidak dapat diubah\n",
    "7. Dictionary : Data untaian yang menyimpan berbagai tipe data berupa pasangan penunjuk dan nilai\n",
    "\n",
    "Contoh :"
   ]
  },
  {
   "cell_type": "code",
   "execution_count": 1,
   "metadata": {},
   "outputs": [
    {
     "name": "stdout",
     "output_type": "stream",
     "text": [
      "Belajar Python DQLAB\n",
      "10\n",
      "3.14\n",
      "[1, 2, 3]\n",
      "('satu', 'dua', 'tiga')\n",
      "{'nama': 'Zein', 'umur': 20}\n",
      "<class 'str'>\n",
      "<class 'int'>\n",
      "<class 'float'>\n",
      "<class 'list'>\n",
      "<class 'tuple'>\n",
      "<class 'dict'>\n"
     ]
    }
   ],
   "source": [
    "var_string = \"Belajar Python DQLAB\"\n",
    "var_int = 10\n",
    "var_float = 3.14\n",
    "var_list = [1, 2, 3]\n",
    "var_tuple = (\"satu\", \"dua\", \"tiga\")\n",
    "var_dict = {\"nama\" : \"Zein\", 'umur' : 20}\n",
    "\n",
    "print (var_string)\n",
    "print (var_int)\n",
    "print (var_float)\n",
    "print (var_list)\n",
    "print (var_tuple)\n",
    "print (var_dict)\n",
    "\n",
    "print(type(var_string))\n",
    "print(type(var_int))\n",
    "print(type(var_float))\n",
    "print(type(var_list))\n",
    "print(type(var_tuple))\n",
    "print(type(var_dict))"
   ]
  },
  {
   "cell_type": "markdown",
   "metadata": {},
   "source": [
    "----------------------------------------------------------\n",
    "-----------------------------------------------------------"
   ]
  },
  {
   "cell_type": "markdown",
   "metadata": {},
   "source": [
    "# 2. Control Structure : Percabangan"
   ]
  },
  {
   "cell_type": "markdown",
   "metadata": {},
   "source": [
    "Dalam membuat suatu keputusan biasanya pasti ada sebuah pilihan. Untuk mewujudkan suatu kerangka berpikir pada suatu pilihan pada bahasa pemrograman biasanya kita menggunakan konsep IF, ELSE. Pada python sebenarnya hampir sama dan tidak ada perbedaan yang terlalu signifikan. Perbedaanya mungkin ada pada\n",
    "\n",
    "Pada praktek kali ini akan dibagi menjadi 3 bagian :\n",
    "\n",
    "- Menggunakan IF yang jika direpresentasikan dengan kata – kata, (Jika, sesuatu memenuhi suatu kondisi, maka lakukan A, jika tidak, tidak terjadi apa-apa)\n",
    "\n",
    "- Menggunakan IF dan ELSE yang jika direpresentasikan dengan kata – kata, (Jika, sesuatu memenuhi suatu kondisi, maka lakukan A, jika tidak, lakukan B)\n",
    "\n",
    "- Menggunakan IF, ELIF dan ELSE. ELIF sendiri sebenarnya sama persis dengan ELSE IF. Namun, pada python disingkat menjadi ELSE IF. (Jika, sesuatu memenuhi suatu kondisi, maka lakukan A, jika tidak, lakukan pengecekan pada kondisi berikutnya, jika memenuhi lakukan B, jika tidak maka lakukan C)\n"
   ]
  },
  {
   "cell_type": "markdown",
   "metadata": {},
   "source": [
    "#### Contoh if"
   ]
  },
  {
   "cell_type": "code",
   "execution_count": 2,
   "metadata": {},
   "outputs": [
    {
     "name": "stdout",
     "output_type": "stream",
     "text": [
      "ini adalah angka 10\n"
     ]
    }
   ],
   "source": [
    "i = 10 #inisialisasi variable i yang memiliki nilai 10\n",
    "\n",
    "if (i==10) : #pengecekan nilai i apakah sama dengan 10\n",
    "    print(\"ini adalah angka 10\") #jika TRUE maka akan mencetak kalimat ini"
   ]
  },
  {
   "cell_type": "markdown",
   "metadata": {},
   "source": [
    "#### Contoh if - elif"
   ]
  },
  {
   "cell_type": "code",
   "execution_count": 3,
   "metadata": {},
   "outputs": [
    {
     "name": "stdout",
     "output_type": "stream",
     "text": [
      "bukan angka 10\n"
     ]
    }
   ],
   "source": [
    "i = 5 #inisialisasi variable i yang memiliki nilai 10\n",
    "\n",
    "if(i==10): #pengecekan nilai i apakah sama dengan 10\n",
    "    print(\"ini adalah angka 10\") #jika TRUE maka akan mencetak kalimat ini\n",
    "else:\n",
    "    print(\"bukan angka 10\") #jika FALSE akan mencetak kalimat ini"
   ]
  },
  {
   "cell_type": "markdown",
   "metadata": {},
   "source": [
    "#### Contoh if - elif - else"
   ]
  },
  {
   "cell_type": "code",
   "execution_count": 4,
   "metadata": {},
   "outputs": [
    {
     "name": "stdout",
     "output_type": "stream",
     "text": [
      "lebih kecil dari 5\n"
     ]
    }
   ],
   "source": [
    "i=3\n",
    "\n",
    "if(i==5):\n",
    "     print(\"ini adalah angka 5\")\n",
    "elif(i>5):\n",
    "     print(\"lebih besar dari 5\")\n",
    "else:\n",
    "     print(\"lebih kecil dari 5\")"
   ]
  },
  {
   "cell_type": "markdown",
   "metadata": {},
   "source": [
    "#### Contoh Nested if\n",
    "Fungsi IF sendiri bisa digunakan secara bertingkat. Atau dilakukan pengecekan lebih dari 1 statement di dalamnya. Semisal seperti ini: if ( i<7 && i <3)\n",
    "\n",
    "Contoh :"
   ]
  },
  {
   "cell_type": "code",
   "execution_count": 5,
   "metadata": {},
   "outputs": [
    {
     "name": "stdout",
     "output_type": "stream",
     "text": [
      "nilai i kurang dari 7\n",
      "nilai i kurang dari 7 dan kurang dari 3\n"
     ]
    }
   ],
   "source": [
    "i=2\n",
    "if (i<7):\n",
    "\tprint(\"nilai i kurang dari 7\")\n",
    "\tif (i<3):\n",
    "\t\tprint(\"nilai i kurang dari 7 dan kurang dari 3\")\n",
    "\telse:\n",
    "\t\tprint(\"nilai i kurang dari 7 tapi lebih dari 3\")"
   ]
  },
  {
   "cell_type": "markdown",
   "metadata": {},
   "source": [
    "----------------------------------------------------------\n",
    "-----------------------------------------------------------"
   ]
  },
  {
   "cell_type": "markdown",
   "metadata": {},
   "source": [
    "\n",
    "# 3. Operator Matematika dan Pembanding"
   ]
  },
  {
   "cell_type": "markdown",
   "metadata": {},
   "source": [
    "Contoh operator matematika :\n",
    "- Tambah                  : +\n",
    "- Kurang                  : -\n",
    "- Pembagi                 : /\n",
    "- Perkalian               : *\n",
    "- Pangkat                 : **\n",
    "- Modulus                 : %\n",
    "- Kurang dari             : <\n",
    "- Lebih dari              : >\n",
    "- Kurang dari sama dengan : <=\n",
    "- Lebih dari sama dengan  : >=\n",
    "- Sama dengan             : ="
   ]
  },
  {
   "cell_type": "markdown",
   "metadata": {},
   "source": [
    "#### Contoh 1"
   ]
  },
  {
   "cell_type": "code",
   "execution_count": 7,
   "metadata": {},
   "outputs": [
    {
     "name": "stdout",
     "output_type": "stream",
     "text": [
      "Hasil penjumlahan dan b adalah 15\n",
      "Selisih a dan b adalah : 5\n",
      "Hasil perkalian a dan b adalah : 50\n",
      "Hasil pembagian a dan b adalah: 2.0\n"
     ]
    }
   ],
   "source": [
    "a=10\n",
    "b=5\n",
    "selisih = a-b\n",
    "jumlah = a+b\n",
    "kali = a*b\n",
    "bagi = a/b\n",
    "print(\"Hasil penjumlahan dan b adalah\", jumlah)\n",
    "print(\"Selisih a dan b adalah :\",selisih)\n",
    "print(\"Hasil perkalian a dan b adalah :\",kali)\n",
    "print(\"Hasil pembagian a dan b adalah:\",bagi)"
   ]
  },
  {
   "cell_type": "markdown",
   "metadata": {},
   "source": [
    "#### Contoh 2 : Modulus"
   ]
  },
  {
   "cell_type": "code",
   "execution_count": 8,
   "metadata": {},
   "outputs": [
    {
     "name": "stdout",
     "output_type": "stream",
     "text": [
      "Hasil modulus 1\n"
     ]
    }
   ],
   "source": [
    "c=10\n",
    "d=3\n",
    "\n",
    "modulus=c%d\n",
    "print(\"Hasil modulus\",modulus)"
   ]
  },
  {
   "cell_type": "markdown",
   "metadata": {},
   "source": [
    "-----------------------"
   ]
  },
  {
   "cell_type": "markdown",
   "metadata": {},
   "source": [
    "## Studi kasus 1"
   ]
  },
  {
   "cell_type": "markdown",
   "metadata": {},
   "source": [
    "Buatlah sebuah program yang bisa menentukan suatu nilai pada variable itu genap atau ganjil! Lakukan percobaan dengan langkah berikut:\n",
    "\n",
    "Buat variabel dengan nama “angka” isi dengan nilai 10\n",
    "Ganti bagian … dengan perhitungan untuk menentukan angka modulus 2 bernilai 0.\n",
    "Cek apakah benar dia bernilai genap maka keluarkan \"angka termasuk bilangan genap\", jika sudah ganti nilai variable angka dengan nilai 5 cek lagi apakah dia bernilai ganjil dan keluarkan \"angka termasuk bilangan ganjil\".\n",
    "\n",
    "Note: Anda bisa menggunakan materi-materi sebelumnya dengan menggabungkannya di tugas praktek ini untuk membantu anda dalam mengerjakan."
   ]
  },
  {
   "cell_type": "code",
   "execution_count": 10,
   "metadata": {},
   "outputs": [
    {
     "name": "stdout",
     "output_type": "stream",
     "text": [
      "angka termasuk bilangan ganjil\n"
     ]
    }
   ],
   "source": [
    "angka=5\n",
    "\n",
    "if(angka%2 == 0):\n",
    "    print(\"angka termasuk bilangan genap\")\n",
    "else:\n",
    "    print(\"angka termasuk bilangan ganjil\")"
   ]
  },
  {
   "cell_type": "markdown",
   "metadata": {},
   "source": [
    "----------------------------------------------------------\n",
    "-----------------------------------------------------------"
   ]
  },
  {
   "cell_type": "markdown",
   "metadata": {},
   "source": [
    "# 4. Looping (Perulangan)"
   ]
  },
  {
   "cell_type": "markdown",
   "metadata": {},
   "source": [
    "Looping berfungsi untuk memberikan perulangan pada program. Contohnya, ketika membutuhkan proses 1000x, maka tidak mungkin jika kita harus memproses 1000x eksekusi code. Maka dari itu, dibuat perulangan untuk mengatasinya.\n",
    "\n",
    "Selain tidak bersifat scalable, efisiensi akan mempengaruhi performa dari program yang kita buat. Seperti pada umumnya pada python juga memiliki fungsi for dan while untuk melakukan looping. Logikanya hampir sama, namun hanya berbeda dalam penulisannya jika Anda sudah terbiasa dengan C ataupun Java."
   ]
  },
  {
   "cell_type": "markdown",
   "metadata": {},
   "source": [
    "### a) Jenis Perulangan While"
   ]
  },
  {
   "cell_type": "markdown",
   "metadata": {},
   "source": [
    "Struktur while pada python tidak berbeda jauh dengan bahasa pemrograman lainnya. Lebih sederhananya struktur penulisan python membuat dia mudah untuk dibaca."
   ]
  },
  {
   "cell_type": "code",
   "execution_count": 11,
   "metadata": {},
   "outputs": [
    {
     "name": "stdout",
     "output_type": "stream",
     "text": [
      "Ini adalah perulangan ke - 0\n",
      "Ini adalah perulangan ke - 1\n",
      "Ini adalah perulangan ke - 2\n",
      "Ini adalah perulangan ke - 3\n",
      "Ini adalah perulangan ke - 4\n",
      "Ini adalah perulangan ke - 5\n"
     ]
    }
   ],
   "source": [
    "j = 0 #nilai awal j =0\n",
    "\n",
    "while j<6: #ketika j kurang dari 6 lakukan perulangan, jika tidak stop perulangan\n",
    "    print(\"Ini adalah perulangan ke -\",j) #lakukan perintah ini ketika perulangan\n",
    "    j=j+1 #setiap kali diakhir perulangan update nilai dengan ditambah 1."
   ]
  },
  {
   "cell_type": "markdown",
   "metadata": {},
   "source": [
    "### b) Jenis Perulangan for"
   ]
  },
  {
   "cell_type": "code",
   "execution_count": 12,
   "metadata": {},
   "outputs": [
    {
     "name": "stdout",
     "output_type": "stream",
     "text": [
      "Ini adalah perulangan ke - 1\n",
      "Ini adalah perulangan ke - 2\n",
      "Ini adalah perulangan ke - 3\n",
      "Ini adalah perulangan ke - 4\n",
      "Ini adalah perulangan ke - 5\n"
     ]
    }
   ],
   "source": [
    "for i in range (1,6): #perulangan for sebagai inisialisasi dari angka 1 hingga angka yang lebih kecil daripada 6.\n",
    "\n",
    "    print(\"Ini adalah perulangan ke -\", i) #perintah jika looping akan tetap berjalan"
   ]
  },
  {
   "cell_type": "markdown",
   "metadata": {},
   "source": [
    "Penjelasan sebelum di RUN :\n",
    "\n",
    "Maksud dari fungsi ini for i in range (1,6): jika kita konversi pada JAVA atau C sama dengan for(i=1;i<6i++). Jika dikonversi menjadi kalimat adalah “perulangan dimulai dari nilai i = 1 hingga nilai i kurang dari 6 dimana setiap kali perulangan nilai i akan selalu ditambah 1”. Jika nilai i sudah mencapai 6 perulangan akan dihentikan."
   ]
  },
  {
   "cell_type": "markdown",
   "metadata": {},
   "source": [
    "### c) Jenis Perulangan for dengan Access"
   ]
  },
  {
   "cell_type": "markdown",
   "metadata": {},
   "source": [
    "Keunikan lain dari looping dengan python adalah selain bahasa yang mudah dimengerti dalam looping, kita juga bisa mengakses elemen yang terdapat pada sebuah list."
   ]
  },
  {
   "cell_type": "code",
   "execution_count": 13,
   "metadata": {},
   "outputs": [
    {
     "name": "stdout",
     "output_type": "stream",
     "text": [
      "Ini adalah element count :  1\n",
      "Ini adalah element count :  2\n",
      "Ini adalah element count :  3\n",
      "Ini adalah element count :  4\n",
      "Ini adalah element count :  5\n"
     ]
    }
   ],
   "source": [
    "count=[1,2,3,4,5] #elemen list\n",
    "\n",
    "for number in count: #looping untuk menampilkan semua elemen pada count\n",
    "    print(\"Ini adalah element count : \", number) #menampilkan elemen list pada count"
   ]
  },
  {
   "cell_type": "markdown",
   "metadata": {},
   "source": [
    "----------------------------------------------------------"
   ]
  },
  {
   "cell_type": "markdown",
   "metadata": {},
   "source": [
    "## Studi kasus 2"
   ]
  },
  {
   "cell_type": "markdown",
   "metadata": {},
   "source": [
    "- Buatlah sebuah program yang bisa mengeluarkan angka 1 sampai 10.\n",
    "- Tampilan akan menunjukan \"Angka ganjil 1\" untuk angka ganjil dan \"Angka genap 2\" untuk angka genap. (Menggunakan looping for)\n",
    "\n",
    "Note: Kode dasar sudah disertakan, Anda cukup mengganti tanda # dengan nilai-nilai yang sesuai."
   ]
  },
  {
   "cell_type": "code",
   "execution_count": 14,
   "metadata": {},
   "outputs": [
    {
     "name": "stdout",
     "output_type": "stream",
     "text": [
      "Angka ganjil 1\n",
      "Angka genap 2\n",
      "Angka ganjil 3\n",
      "Angka genap 4\n",
      "Angka ganjil 5\n",
      "Angka genap 6\n",
      "Angka ganjil 7\n",
      "Angka genap 8\n",
      "Angka ganjil 9\n",
      "Angka genap 10\n"
     ]
    }
   ],
   "source": [
    "for i in range (1,11):\n",
    "    if(i%2 == 0):\n",
    "        print(\"Angka genap\",i)\n",
    "    else:\n",
    "         print(\"Angka ganjil\",i)"
   ]
  },
  {
   "cell_type": "markdown",
   "metadata": {},
   "source": [
    "----------------------------------------------------------\n",
    "-----------------------------------------------------------"
   ]
  },
  {
   "cell_type": "markdown",
   "metadata": {},
   "source": [
    "# 5. Function"
   ]
  },
  {
   "cell_type": "markdown",
   "metadata": {},
   "source": [
    "Pada pembuatan program yang kompleks dan memiliki banyak fitur, kita diharuskan menggunakan fungsi. Kenapa memangnya kalau tidak menggunakan fungsi? Bisa jadi kita akan kerepotan menulis kode programnya, karena banyak yang harus ditulis dan kode akan menjadi sulit dibaca dan dirawat (maintenance). Dengan fungsi, kita dapat memecah program besar menjadi sub program yang lebih sederhana. Masing-masing fitur pada program dapat kita buat dalam satu fungsi. Pada saat kita membutuhkan fitur tersebut, kita tinggal panggil fungsinya saja."
   ]
  },
  {
   "cell_type": "markdown",
   "metadata": {},
   "source": [
    "### a) Membuat Fungsi Sendiri"
   ]
  },
  {
   "cell_type": "markdown",
   "metadata": {},
   "source": [
    "Fungsi pada Python, dibuat dengan kata kunci def  kemudian diikuti dengan nama fungsinya.\n",
    "\n",
    "Format penulisannya adalah sebagai berikut,\n",
    "\n",
    "==========================\n",
    "\n",
    "inisiasi nama_fungsi() :\n",
    "   \n",
    "<--indentasi--> isi_fungsi\n",
    "\n",
    "==========================\n",
    "\n",
    "Contoh :\n"
   ]
  },
  {
   "cell_type": "code",
   "execution_count": 18,
   "metadata": {},
   "outputs": [],
   "source": [
    "def hello():\n",
    "    print (\"Hello ini Fungsi\") # Fungsi 1"
   ]
  },
  {
   "cell_type": "code",
   "execution_count": 17,
   "metadata": {},
   "outputs": [],
   "source": [
    "def salam():\n",
    "    print(\"Hello, Selamat Pagi\") # Fungsi 2\n",
    "    "
   ]
  },
  {
   "cell_type": "markdown",
   "metadata": {},
   "source": [
    "Cara memanggil fungsinya adalah sebagai berikut :"
   ]
  },
  {
   "cell_type": "code",
   "execution_count": 19,
   "metadata": {},
   "outputs": [
    {
     "name": "stdout",
     "output_type": "stream",
     "text": [
      "Hello ini Fungsi\n",
      "Hello, Selamat Pagi\n"
     ]
    }
   ],
   "source": [
    "hello() # Memanggil fungsi 1\n",
    "salam() # Memanggil fungsi 2"
   ]
  },
  {
   "cell_type": "markdown",
   "metadata": {},
   "source": [
    "### b) Fungsi berparameter"
   ]
  },
  {
   "cell_type": "markdown",
   "metadata": {},
   "source": [
    "Sekarang, bagaimana kalau kita ingin memberikan input nilai ke dalam fungsi? Kita bisa menggunakan parameter. Parameter adalah variabel yang menampung nilai untuk diproses kedalam suatu fungsi.\n",
    "Formatnya :\n",
    "\n",
    "==========================\n",
    "\n",
    "inisiasi nama_fungsi(parameter) :\n",
    "\n",
    "<--indentasi--> isi_fungsi\n",
    "\n",
    "==========================\n",
    "\n",
    "Pada contoh kali ini untuk mempermudah pembelajaran telah disediakan rumusan matematika untuk menghitung luas pada segitiga. Berikut ini contoh kodenya:"
   ]
  },
  {
   "cell_type": "code",
   "execution_count": 20,
   "metadata": {},
   "outputs": [],
   "source": [
    "def luas_segitiga(alas, tinggi): #alas dan tinggi merupakan parameter yang masuk\n",
    "    luas = (alas * tinggi) / 2\n",
    "    print(\"Luas segitiga: %f\" % luas);"
   ]
  },
  {
   "cell_type": "code",
   "execution_count": 21,
   "metadata": {},
   "outputs": [
    {
     "name": "stdout",
     "output_type": "stream",
     "text": [
      "Luas segitiga: 12.000000\n"
     ]
    }
   ],
   "source": [
    "# Pemanggilan fungsi\n",
    "##4 dan 6 merupakan parameter yang diinputkan kedalam fungsi luas segitiga\n",
    "luas_segitiga(4, 6) "
   ]
  },
  {
   "cell_type": "markdown",
   "metadata": {},
   "source": [
    "### c) Fungsi dengan Return Value"
   ]
  },
  {
   "cell_type": "markdown",
   "metadata": {},
   "source": [
    "Fungsi yang tidak mengembalikan nilai biasanya disebut dengan prosedur. Namun, kadang kita butuh hasil proses dari fungsi untuk digunakan pada proses berikutnya. Maka fungsi harus mengembalikan nilai dari hasil pemrosesannya. Cara mengembalikan nilai adalah menggunakan kata kunci return lalu diikuti dengan nilai atau variabel yang akan dikembalikan.\n",
    "\n",
    "==========================\n",
    "\n",
    "inisiasi nama_fungsi(parameter) :\n",
    "\n",
    "<--indentasi--> isi_fungsi\n",
    "\n",
    "return variabel_return\n",
    "\n",
    "==========================\n",
    "\n",
    "Meneruskan kembali di poin sebelumnya. Untuk fungsi luas segitiga yang sudah dibuat, mari tambahkan return value sehingga menjadi seperti ini:"
   ]
  },
  {
   "cell_type": "code",
   "execution_count": 22,
   "metadata": {},
   "outputs": [],
   "source": [
    "def luas_segitiga(alas, tinggi): #alas dan tinggi merupakan parameter yang masuk\n",
    "    luas = (alas * tinggi) / 2\n",
    "    return luas"
   ]
  },
  {
   "cell_type": "code",
   "execution_count": 23,
   "metadata": {},
   "outputs": [
    {
     "name": "stdout",
     "output_type": "stream",
     "text": [
      "Luas segitiga: 12\n"
     ]
    }
   ],
   "source": [
    "# Pemanggilan fungsi\n",
    "##4 dan 6 merupakan parameter yang diinputkan kedalam fungsi luas segitiga \n",
    "print(\"Luas segitiga: %d\" % luas_segitiga(4, 6))"
   ]
  },
  {
   "cell_type": "markdown",
   "metadata": {},
   "source": [
    "-------------------------------\n",
    "------------------------------"
   ]
  },
  {
   "cell_type": "markdown",
   "metadata": {},
   "source": [
    "# 6. Modul dan Package"
   ]
  },
  {
   "cell_type": "markdown",
   "metadata": {},
   "source": [
    "Modul memungkinkan Anda mengatur kode Python secara logis. Mengelompokkan kode terkait ke dalam modul membuat kode lebih mudah dipahami dan digunakan. Modul adalah objek Python dengan atribut yang diberi nama yang bisa Anda tambahkan dan dijadikan referensi dalam membantu dalam proses pembuatan program. Secara sederhana, modul adalah file yang terdiri dari kode Python. Modul dapat mendefinisikan fungsi, kelas, dan variabel. Python sendiri sudah memiliki banyak library dan module yang bisa diakses oleh pengguna secara free."
   ]
  },
  {
   "cell_type": "markdown",
   "metadata": {},
   "source": [
    "### a) Import Package dan Menggunakan modul"
   ]
  },
  {
   "cell_type": "markdown",
   "metadata": {},
   "source": [
    "Pada sesi kali ini, praktek akan menggunakan module math yang merupakan module standar untuk operasi matematika. Berikut ini contohnya :\n",
    "\n",
    "import math\n",
    "\n",
    "Cara menggunakan module cukup sederhana. Module sendiri berisi fungsi-fungsi. Cara orang melakukan akses kedalam fungsi juga berbeda. Coba lihat dan implementasikan kode di bawah ini :"
   ]
  },
  {
   "cell_type": "code",
   "execution_count": 24,
   "metadata": {},
   "outputs": [
    {
     "name": "stdout",
     "output_type": "stream",
     "text": [
      "Nilai pi adalah: 3.141592653589793\n"
     ]
    }
   ],
   "source": [
    "import math\n",
    "print(\"Nilai pi adalah:\", math.pi)# math.pi merupakan sintak untuk memanggil fungsi"
   ]
  },
  {
   "cell_type": "markdown",
   "metadata": {},
   "source": [
    "### b) Import dengan Module Rename atau Alias"
   ]
  },
  {
   "cell_type": "markdown",
   "metadata": {},
   "source": [
    "Kita bisa mengimpor modul dengan menamainya. Hal ini biasanya kita lakukan untuk menyingkat nama modul yang panjang."
   ]
  },
  {
   "cell_type": "code",
   "execution_count": 25,
   "metadata": {},
   "outputs": [
    {
     "name": "stdout",
     "output_type": "stream",
     "text": [
      "Nilai pi adalah: 3.141592653589793\n"
     ]
    }
   ],
   "source": [
    "import math as m                #menggunakan m sebagai module rename atau alias\n",
    "print(\"Nilai pi adalah:\", m.pi) #m.pi merupakan sintak untuk memanggil fungsi"
   ]
  },
  {
   "cell_type": "markdown",
   "metadata": {},
   "source": [
    "### c) Import Sebagian Fungsi"
   ]
  },
  {
   "cell_type": "markdown",
   "metadata": {},
   "source": [
    "Pada suatu module tidak bisa dipungkiri terdiri dari puluhan bahkan ribuan fungsi. Namun, yang kita butuhkan hanya 1 atau 2 fungsi saja. Untuk meminimalisir ketidakefisienan suatu program dalam load suatu module bisa dilakukan import module namun hanya beberapa fungsi saja yang kita import kedalam code. Format (from module_name import function_name)"
   ]
  },
  {
   "cell_type": "code",
   "execution_count": 27,
   "metadata": {},
   "outputs": [
    {
     "name": "stdout",
     "output_type": "stream",
     "text": [
      "Nilai pi adalah 3.141592653589793\n"
     ]
    }
   ],
   "source": [
    "from math import pi\n",
    "\n",
    "print(\"Nilai pi adalah\", pi)"
   ]
  },
  {
   "cell_type": "markdown",
   "metadata": {},
   "source": [
    "### d) Import Semua isi Moduls"
   ]
  },
  {
   "cell_type": "markdown",
   "metadata": {},
   "source": [
    "Namun, jika memang yang dibutuhkan banyak, semisal lebih dari 10 atau bahkan ratusan fungsi, bisa dilakukan import semuanya dengan menggunakan format from module_name import *. Tanda * disini menunjukan semua fungsi diimport kedalam code."
   ]
  },
  {
   "cell_type": "code",
   "execution_count": 28,
   "metadata": {},
   "outputs": [
    {
     "name": "stdout",
     "output_type": "stream",
     "text": [
      "Nilai e adalah: 2.718281828459045\n"
     ]
    }
   ],
   "source": [
    "from math import *\n",
    "\n",
    "print(\"Nilai e adalah:\", e)"
   ]
  },
  {
   "cell_type": "markdown",
   "metadata": {},
   "source": [
    "---------------------\n",
    "--------------------"
   ]
  },
  {
   "cell_type": "markdown",
   "metadata": {},
   "source": [
    "# 7. Membaca dari File"
   ]
  },
  {
   "cell_type": "markdown",
   "metadata": {},
   "source": [
    "CSV atau comma separated value adalah salah satu tipe file yang digunakan secara luas di dunia programming. Tidak hanya itu CSV pun sering digunakan dalam pengolahan informasi yang dihasilkan spreadsheet untuk diproses lebih lanjut melalui mesin analitik. CSV pun dianggap sebagai file yang agnostik karena dapat digunakan oleh berbagai database untuk proses backup data. CSV dianggap sebagai salah satu tipe data yang sering dipakai untuk mengelola data pada proses lanjutan."
   ]
  },
  {
   "cell_type": "markdown",
   "metadata": {},
   "source": [
    "### a) Membaca Teks File (CSV)"
   ]
  },
  {
   "cell_type": "markdown",
   "metadata": {},
   "source": [
    "Sekarang kita akan mencoba membaca sebuah file CSV yang telah dihasilkan aplikasi atau program lain. Di Python, hasil pembacaan setiap baris pada file CSV akan dikonversi menjadi list Python.\n",
    "\n",
    "Berikut adalah contoh kode untuk membaca file CSV dengan kasus yang sangat sederhana, coba ketik kode di bawah ini pada Code Editor:"
   ]
  },
  {
   "cell_type": "code",
   "execution_count": 39,
   "metadata": {},
   "outputs": [
    {
     "name": "stdout",
     "output_type": "stream",
     "text": [
      "['TAHUN', 'NAMA PROVINSI', 'NAMA KABUPATEN/KOTA', 'NAMA KECAMATAN', 'NAMA KELURAHAN', 'LAKI-LAKI WNI', 'PEREMPUAN WNI', 'LAKI-LAKI WNA', 'PEREMPUAN WNA', '', '', '', '', '', '', '', '', '']\n",
      "['2013', 'PROVINSI DKI JAKARTA', 'JAKARTA PUSAT', 'GAMBIR', 'GAMBIR', '1790', '1690', '1', '2', '', '', '', '', '', '', '', '', '']\n",
      "['2013', 'PROVINSI DKI JAKARTA', 'JAKARTA PUSAT', 'GAMBIR', 'CIDENG', '9159', '9206', '5', '6', '', '', '', '', '', '', '', '', '']\n",
      "['2013', 'PROVINSI DKI JAKARTA', 'JAKARTA PUSAT', 'GAMBIR', 'PETOJO UTARA', '10811', '10436', '10', '8', '', '', '', '', '', '', '', '', '']\n",
      "['2013', 'PROVINSI DKI JAKARTA', 'JAKARTA PUSAT', 'GAMBIR', 'PETOJO SELATAN', '8455', '8023', '5', '7', '', '', '', '', '', '', '', '', '']\n",
      "['2013', 'PROVINSI DKI JAKARTA', 'JAKARTA PUSAT', 'GAMBIR', 'KEBON KELAPA', '6300', '6078', '6', '10', '', '', '', '', '', '', '', '', '']\n",
      "['2013', 'PROVINSI DKI JAKARTA', 'JAKARTA PUSAT', 'GAMBIR', 'DURI PULO', '13056', '12588', '2', '6', '', '', '', '', '', '', '', '', '']\n",
      "['2013', 'PROVINSI DKI JAKARTA', 'JAKARTA PUSAT', 'SAWAH BESAR', 'PASAR BARU', '7557', '7552', '34', '55', '', '', '', '', '', '', '', '', '']\n",
      "['2013', 'PROVINSI DKI JAKARTA', 'JAKARTA PUSAT', 'SAWAH BESAR', 'KARANG ANYAR', '16327', '15859', '4', '2', '', '', '', '', '', '', '', '', '']\n",
      "['2013', 'PROVINSI DKI JAKARTA', 'JAKARTA PUSAT', 'SAWAH BESAR', 'KARTINI', '13610', '13808', '3', '3', '', '', '', '', '', '', '', '', '']\n",
      "['2013', 'PROVINSI DKI JAKARTA', 'JAKARTA PUSAT', 'SAWAH BESAR', 'GUNUNG SAHARI UTARA', '9734', '9889', '15', '30', '', '', '', '', '', '', '', '', '']\n",
      "['2013', 'PROVINSI DKI JAKARTA', 'JAKARTA PUSAT', 'SAWAH BESAR', 'MANGGA DUA SELATAN', '17269', '16458', '42', '33', '', '', '', '', '', '', '', '', '']\n",
      "['2013', 'PROVINSI DKI JAKARTA', 'JAKARTA PUSAT', 'KEMAYORAN', 'KEMAYORAN', '12365', '11932', '6', '8', '', '', '', '', '', '', '', '', '']\n",
      "['2013', 'PROVINSI DKI JAKARTA', 'JAKARTA PUSAT', 'KEMAYORAN', 'KEBON KOSONG', '15933', '15665', '33', '25', '', '', '', '', '', '', '', '', '']\n",
      "['2013', 'PROVINSI DKI JAKARTA', 'JAKARTA PUSAT', 'KEMAYORAN', 'HARAPAN MULIA', '13523', '13049', '2', '3', '', '', '', '', '', '', '', '', '']\n",
      "['2013', 'PROVINSI DKI JAKARTA', 'JAKARTA PUSAT', 'KEMAYORAN', 'SERDANG', '17284', '17020', '1', '1', '', '', '', '', '', '', '', '', '']\n",
      "['2013', 'PROVINSI DKI JAKARTA', 'JAKARTA PUSAT', 'KEMAYORAN', 'GUNUNG SAHARI SELATAN', '11730', '11487', '13', '15', '', '', '', '', '', '', '', '', '']\n",
      "['2013', 'PROVINSI DKI JAKARTA', 'JAKARTA PUSAT', 'KEMAYORAN', 'CEMPAKA BARU', '19103', '18601', '', '3', '', '', '', '', '', '', '', '', '']\n",
      "['2013', 'PROVINSI DKI JAKARTA', 'JAKARTA PUSAT', 'KEMAYORAN', 'SUMUR BATU', '13441', '13288', '20', '13', '', '', '', '', '', '', '', '', '']\n",
      "['2013', 'PROVINSI DKI JAKARTA', 'JAKARTA PUSAT', 'KEMAYORAN', 'UTAN PANJANG', '17125', '16351', '4', '3', '', '', '', '', '', '', '', '', '']\n",
      "['2013', 'PROVINSI DKI JAKARTA', 'JAKARTA PUSAT', 'SENEN', 'SENEN', '4236', '3975', '10', '7', '', '', '', '', '', '', '', '', '']\n",
      "['2013', 'PROVINSI DKI JAKARTA', 'JAKARTA PUSAT', 'SENEN', 'KENARI', '5445', '5252', '2', '', '', '', '', '', '', '', '', '', '']\n",
      "['2013', 'PROVINSI DKI JAKARTA', 'JAKARTA PUSAT', 'SENEN', 'PASEBAN', '13787', '13477', '', '', '', '', '', '', '', '', '', '', '']\n",
      "['2013', 'PROVINSI DKI JAKARTA', 'JAKARTA PUSAT', 'SENEN', 'KRAMAT', '17482', '16331', '2', '2', '', '', '', '', '', '', '', '', '']\n",
      "['2013', 'PROVINSI DKI JAKARTA', 'JAKARTA PUSAT', 'SENEN', 'KWITANG', '9176', '9148', '1', '1', '', '', '', '', '', '', '', '', '']\n",
      "['2013', 'PROVINSI DKI JAKARTA', 'JAKARTA PUSAT', 'SENEN', 'BUNGUR', '11200', '10849', '4', '3', '', '', '', '', '', '', '', '', '']\n",
      "['2013', 'PROVINSI DKI JAKARTA', 'JAKARTA PUSAT', 'CEMPAKA PUTIH', 'CEMPAKA PUTIH TIMUR', '13630', '13686', '24', '24', '', '', '', '', '', '', '', '', '']\n",
      "['2013', 'PROVINSI DKI JAKARTA', 'JAKARTA PUSAT', 'CEMPAKA PUTIH', 'CEMPAKA PUTIH BARAT', '20029', '19681', '12', '2', '', '', '', '', '', '', '', '', '']\n",
      "['2013', 'PROVINSI DKI JAKARTA', 'JAKARTA PUSAT', 'CEMPAKA PUTIH', 'RAWASARI', '12462', '12465', '1', '3', '', '', '', '', '', '', '', '', '']\n",
      "['2013', 'PROVINSI DKI JAKARTA', 'JAKARTA PUSAT', 'MENTENG', 'MENTENG', '14576', '14610', '7', '10', '', '', '', '', '', '', '', '', '']\n",
      "['2013', 'PROVINSI DKI JAKARTA', 'JAKARTA PUSAT', 'MENTENG', 'PEGANGSAAN', '13392', '13214', '2', '', '', '', '', '', '', '', '', '', '']\n",
      "['2013', 'PROVINSI DKI JAKARTA', 'JAKARTA PUSAT', 'MENTENG', 'CIKINI', '4825', '4772', '5', '1', '', '', '', '', '', '', '', '', '']\n",
      "['2013', 'PROVINSI DKI JAKARTA', 'JAKARTA PUSAT', 'MENTENG', 'GONDANGDIA', '2196', '2443', '11', '13', '', '', '', '', '', '', '', '', '']\n",
      "['2013', 'PROVINSI DKI JAKARTA', 'JAKARTA PUSAT', 'MENTENG', 'KEBON SIRIH', '7976', '7439', '2', '2', '', '', '', '', '', '', '', '', '']\n",
      "['2013', 'PROVINSI DKI JAKARTA', 'JAKARTA PUSAT', 'TANAH ABANG', 'GELORA', '1865', '1883', '6', '2', '', '', '', '', '', '', '', '', '']\n",
      "['2013', 'PROVINSI DKI JAKARTA', 'JAKARTA PUSAT', 'TANAH ABANG', 'BENDUNGAN HILIR', '12713', '12582', '11', '2', '', '', '', '', '', '', '', '', '']\n",
      "['2013', 'PROVINSI DKI JAKARTA', 'JAKARTA PUSAT', 'TANAH ABANG', 'KARET TENGSIN', '11002', '10271', '10', '3', '', '', '', '', '', '', '', '', '']\n",
      "['2013', 'PROVINSI DKI JAKARTA', 'JAKARTA PUSAT', 'TANAH ABANG', 'PETAMBURAN', '20112', '18794', '17', '13', '', '', '', '', '', '', '', '', '']\n",
      "['2013', 'PROVINSI DKI JAKARTA', 'JAKARTA PUSAT', 'TANAH ABANG', 'KEBON MELATI', '19826', '18672', '8', '4', '', '', '', '', '', '', '', '', '']\n",
      "['2013', 'PROVINSI DKI JAKARTA', 'JAKARTA PUSAT', 'TANAH ABANG', 'KEBON KACANG', '12873', '12357', '3', '4', '', '', '', '', '', '', '', '', '']\n",
      "['2013', 'PROVINSI DKI JAKARTA', 'JAKARTA PUSAT', 'TANAH ABANG', 'KAMPUNG BALI', '7348', '7205', '3', '1', '', '', '', '', '', '', '', '', '']\n",
      "['2013', 'PROVINSI DKI JAKARTA', 'JAKARTA PUSAT', 'JOHAR BARU', 'JOHAR BARU', '21016', '20953', '2', '', '', '', '', '', '', '', '', '', '']\n",
      "['2013', 'PROVINSI DKI JAKARTA', 'JAKARTA PUSAT', 'JOHAR BARU', 'KAMPUNG RAWA', '13337', '12499', '1', '', '', '', '', '', '', '', '', '', '']\n",
      "['2013', 'PROVINSI DKI JAKARTA', 'JAKARTA PUSAT', 'JOHAR BARU', 'GALUR', '11077', '10259', '', '', '', '', '', '', '', '', '', '', '']\n",
      "['2013', 'PROVINSI DKI JAKARTA', 'JAKARTA PUSAT', 'JOHAR BARU', 'TANAH TINGGI', '22680', '21450', '', '', '', '', '', '', '', '', '', '', '']\n"
     ]
    }
   ],
   "source": [
    "import csv\n",
    "\n",
    "# tentukan lokasi file, nama file, dan inisialisasi csv\n",
    "f = open('penduduk_gender_head.csv', 'r')\n",
    "reader = csv.reader(f)\n",
    "\n",
    "# membaca baris per baris\n",
    "for row in reader:\n",
    "     print (row)\n",
    "\n",
    "# menutup file csv\n",
    "f.close()"
   ]
  },
  {
   "cell_type": "markdown",
   "metadata": {},
   "source": [
    "### b) Membaca file CSV dengan menggunakan PANDAS"
   ]
  },
  {
   "cell_type": "markdown",
   "metadata": {},
   "source": [
    "Bagi yang belum familiar, PANDAS merupakan salah satu library yang sangat sering digunakan untuk aplikasi dan implementasi data science. Baik untuk data manipulation, data pre-processing, atau data wrangling. Pada sesi kali ini, kita akan menggunakan PANDAS untuk membaca file dari csv.\n",
    "\n",
    "Sebelumnya harus menginstall dulu setidaknya library pandas, numpy, dan matplotlib.\n",
    "\n",
    "Cobalah ketik code di bawah ini:"
   ]
  },
  {
   "cell_type": "code",
   "execution_count": 38,
   "metadata": {},
   "outputs": [
    {
     "name": "stdout",
     "output_type": "stream",
     "text": [
      "    TAHUN         NAMA PROVINSI NAMA KABUPATEN/KOTA NAMA KECAMATAN  \\\n",
      "0    2013  PROVINSI DKI JAKARTA       JAKARTA PUSAT         GAMBIR   \n",
      "1    2013  PROVINSI DKI JAKARTA       JAKARTA PUSAT         GAMBIR   \n",
      "2    2013  PROVINSI DKI JAKARTA       JAKARTA PUSAT         GAMBIR   \n",
      "3    2013  PROVINSI DKI JAKARTA       JAKARTA PUSAT         GAMBIR   \n",
      "4    2013  PROVINSI DKI JAKARTA       JAKARTA PUSAT         GAMBIR   \n",
      "5    2013  PROVINSI DKI JAKARTA       JAKARTA PUSAT         GAMBIR   \n",
      "6    2013  PROVINSI DKI JAKARTA       JAKARTA PUSAT    SAWAH BESAR   \n",
      "7    2013  PROVINSI DKI JAKARTA       JAKARTA PUSAT    SAWAH BESAR   \n",
      "8    2013  PROVINSI DKI JAKARTA       JAKARTA PUSAT    SAWAH BESAR   \n",
      "9    2013  PROVINSI DKI JAKARTA       JAKARTA PUSAT    SAWAH BESAR   \n",
      "10   2013  PROVINSI DKI JAKARTA       JAKARTA PUSAT    SAWAH BESAR   \n",
      "11   2013  PROVINSI DKI JAKARTA       JAKARTA PUSAT      KEMAYORAN   \n",
      "12   2013  PROVINSI DKI JAKARTA       JAKARTA PUSAT      KEMAYORAN   \n",
      "13   2013  PROVINSI DKI JAKARTA       JAKARTA PUSAT      KEMAYORAN   \n",
      "14   2013  PROVINSI DKI JAKARTA       JAKARTA PUSAT      KEMAYORAN   \n",
      "15   2013  PROVINSI DKI JAKARTA       JAKARTA PUSAT      KEMAYORAN   \n",
      "16   2013  PROVINSI DKI JAKARTA       JAKARTA PUSAT      KEMAYORAN   \n",
      "17   2013  PROVINSI DKI JAKARTA       JAKARTA PUSAT      KEMAYORAN   \n",
      "18   2013  PROVINSI DKI JAKARTA       JAKARTA PUSAT      KEMAYORAN   \n",
      "19   2013  PROVINSI DKI JAKARTA       JAKARTA PUSAT          SENEN   \n",
      "20   2013  PROVINSI DKI JAKARTA       JAKARTA PUSAT          SENEN   \n",
      "21   2013  PROVINSI DKI JAKARTA       JAKARTA PUSAT          SENEN   \n",
      "22   2013  PROVINSI DKI JAKARTA       JAKARTA PUSAT          SENEN   \n",
      "23   2013  PROVINSI DKI JAKARTA       JAKARTA PUSAT          SENEN   \n",
      "24   2013  PROVINSI DKI JAKARTA       JAKARTA PUSAT          SENEN   \n",
      "25   2013  PROVINSI DKI JAKARTA       JAKARTA PUSAT  CEMPAKA PUTIH   \n",
      "26   2013  PROVINSI DKI JAKARTA       JAKARTA PUSAT  CEMPAKA PUTIH   \n",
      "27   2013  PROVINSI DKI JAKARTA       JAKARTA PUSAT  CEMPAKA PUTIH   \n",
      "28   2013  PROVINSI DKI JAKARTA       JAKARTA PUSAT        MENTENG   \n",
      "29   2013  PROVINSI DKI JAKARTA       JAKARTA PUSAT        MENTENG   \n",
      "30   2013  PROVINSI DKI JAKARTA       JAKARTA PUSAT        MENTENG   \n",
      "31   2013  PROVINSI DKI JAKARTA       JAKARTA PUSAT        MENTENG   \n",
      "32   2013  PROVINSI DKI JAKARTA       JAKARTA PUSAT        MENTENG   \n",
      "33   2013  PROVINSI DKI JAKARTA       JAKARTA PUSAT    TANAH ABANG   \n",
      "34   2013  PROVINSI DKI JAKARTA       JAKARTA PUSAT    TANAH ABANG   \n",
      "35   2013  PROVINSI DKI JAKARTA       JAKARTA PUSAT    TANAH ABANG   \n",
      "36   2013  PROVINSI DKI JAKARTA       JAKARTA PUSAT    TANAH ABANG   \n",
      "37   2013  PROVINSI DKI JAKARTA       JAKARTA PUSAT    TANAH ABANG   \n",
      "38   2013  PROVINSI DKI JAKARTA       JAKARTA PUSAT    TANAH ABANG   \n",
      "39   2013  PROVINSI DKI JAKARTA       JAKARTA PUSAT    TANAH ABANG   \n",
      "40   2013  PROVINSI DKI JAKARTA       JAKARTA PUSAT     JOHAR BARU   \n",
      "41   2013  PROVINSI DKI JAKARTA       JAKARTA PUSAT     JOHAR BARU   \n",
      "42   2013  PROVINSI DKI JAKARTA       JAKARTA PUSAT     JOHAR BARU   \n",
      "43   2013  PROVINSI DKI JAKARTA       JAKARTA PUSAT     JOHAR BARU   \n",
      "\n",
      "           NAMA KELURAHAN  LAKI-LAKI WNI  PEREMPUAN WNI  LAKI-LAKI WNA  \\\n",
      "0                  GAMBIR           1790           1690            1.0   \n",
      "1                  CIDENG           9159           9206            5.0   \n",
      "2            PETOJO UTARA          10811          10436           10.0   \n",
      "3          PETOJO SELATAN           8455           8023            5.0   \n",
      "4            KEBON KELAPA           6300           6078            6.0   \n",
      "5               DURI PULO          13056          12588            2.0   \n",
      "6              PASAR BARU           7557           7552           34.0   \n",
      "7            KARANG ANYAR          16327          15859            4.0   \n",
      "8                 KARTINI          13610          13808            3.0   \n",
      "9     GUNUNG SAHARI UTARA           9734           9889           15.0   \n",
      "10     MANGGA DUA SELATAN          17269          16458           42.0   \n",
      "11              KEMAYORAN          12365          11932            6.0   \n",
      "12           KEBON KOSONG          15933          15665           33.0   \n",
      "13          HARAPAN MULIA          13523          13049            2.0   \n",
      "14                SERDANG          17284          17020            1.0   \n",
      "15  GUNUNG SAHARI SELATAN          11730          11487           13.0   \n",
      "16           CEMPAKA BARU          19103          18601            NaN   \n",
      "17             SUMUR BATU          13441          13288           20.0   \n",
      "18           UTAN PANJANG          17125          16351            4.0   \n",
      "19                  SENEN           4236           3975           10.0   \n",
      "20                 KENARI           5445           5252            2.0   \n",
      "21                PASEBAN          13787          13477            NaN   \n",
      "22                 KRAMAT          17482          16331            2.0   \n",
      "23                KWITANG           9176           9148            1.0   \n",
      "24                 BUNGUR          11200          10849            4.0   \n",
      "25    CEMPAKA PUTIH TIMUR          13630          13686           24.0   \n",
      "26    CEMPAKA PUTIH BARAT          20029          19681           12.0   \n",
      "27               RAWASARI          12462          12465            1.0   \n",
      "28                MENTENG          14576          14610            7.0   \n",
      "29             PEGANGSAAN          13392          13214            2.0   \n",
      "30                 CIKINI           4825           4772            5.0   \n",
      "31             GONDANGDIA           2196           2443           11.0   \n",
      "32            KEBON SIRIH           7976           7439            2.0   \n",
      "33                 GELORA           1865           1883            6.0   \n",
      "34        BENDUNGAN HILIR          12713          12582           11.0   \n",
      "35          KARET TENGSIN          11002          10271           10.0   \n",
      "36             PETAMBURAN          20112          18794           17.0   \n",
      "37           KEBON MELATI          19826          18672            8.0   \n",
      "38           KEBON KACANG          12873          12357            3.0   \n",
      "39           KAMPUNG BALI           7348           7205            3.0   \n",
      "40             JOHAR BARU          21016          20953            2.0   \n",
      "41           KAMPUNG RAWA          13337          12499            1.0   \n",
      "42                  GALUR          11077          10259            NaN   \n",
      "43           TANAH TINGGI          22680          21450            NaN   \n",
      "\n",
      "    PEREMPUAN WNA  Unnamed: 9  Unnamed: 10  Unnamed: 11  Unnamed: 12  \\\n",
      "0             2.0         NaN          NaN          NaN          NaN   \n",
      "1             6.0         NaN          NaN          NaN          NaN   \n",
      "2             8.0         NaN          NaN          NaN          NaN   \n",
      "3             7.0         NaN          NaN          NaN          NaN   \n",
      "4            10.0         NaN          NaN          NaN          NaN   \n",
      "5             6.0         NaN          NaN          NaN          NaN   \n",
      "6            55.0         NaN          NaN          NaN          NaN   \n",
      "7             2.0         NaN          NaN          NaN          NaN   \n",
      "8             3.0         NaN          NaN          NaN          NaN   \n",
      "9            30.0         NaN          NaN          NaN          NaN   \n",
      "10           33.0         NaN          NaN          NaN          NaN   \n",
      "11            8.0         NaN          NaN          NaN          NaN   \n",
      "12           25.0         NaN          NaN          NaN          NaN   \n",
      "13            3.0         NaN          NaN          NaN          NaN   \n",
      "14            1.0         NaN          NaN          NaN          NaN   \n",
      "15           15.0         NaN          NaN          NaN          NaN   \n",
      "16            3.0         NaN          NaN          NaN          NaN   \n",
      "17           13.0         NaN          NaN          NaN          NaN   \n",
      "18            3.0         NaN          NaN          NaN          NaN   \n",
      "19            7.0         NaN          NaN          NaN          NaN   \n",
      "20            NaN         NaN          NaN          NaN          NaN   \n",
      "21            NaN         NaN          NaN          NaN          NaN   \n",
      "22            2.0         NaN          NaN          NaN          NaN   \n",
      "23            1.0         NaN          NaN          NaN          NaN   \n",
      "24            3.0         NaN          NaN          NaN          NaN   \n",
      "25           24.0         NaN          NaN          NaN          NaN   \n",
      "26            2.0         NaN          NaN          NaN          NaN   \n",
      "27            3.0         NaN          NaN          NaN          NaN   \n",
      "28           10.0         NaN          NaN          NaN          NaN   \n",
      "29            NaN         NaN          NaN          NaN          NaN   \n",
      "30            1.0         NaN          NaN          NaN          NaN   \n",
      "31           13.0         NaN          NaN          NaN          NaN   \n",
      "32            2.0         NaN          NaN          NaN          NaN   \n",
      "33            2.0         NaN          NaN          NaN          NaN   \n",
      "34            2.0         NaN          NaN          NaN          NaN   \n",
      "35            3.0         NaN          NaN          NaN          NaN   \n",
      "36           13.0         NaN          NaN          NaN          NaN   \n",
      "37            4.0         NaN          NaN          NaN          NaN   \n",
      "38            4.0         NaN          NaN          NaN          NaN   \n",
      "39            1.0         NaN          NaN          NaN          NaN   \n",
      "40            NaN         NaN          NaN          NaN          NaN   \n",
      "41            NaN         NaN          NaN          NaN          NaN   \n",
      "42            NaN         NaN          NaN          NaN          NaN   \n",
      "43            NaN         NaN          NaN          NaN          NaN   \n",
      "\n",
      "    Unnamed: 13  Unnamed: 14  Unnamed: 15  Unnamed: 16  Unnamed: 17  \n",
      "0           NaN          NaN          NaN          NaN          NaN  \n",
      "1           NaN          NaN          NaN          NaN          NaN  \n",
      "2           NaN          NaN          NaN          NaN          NaN  \n",
      "3           NaN          NaN          NaN          NaN          NaN  \n",
      "4           NaN          NaN          NaN          NaN          NaN  \n",
      "5           NaN          NaN          NaN          NaN          NaN  \n",
      "6           NaN          NaN          NaN          NaN          NaN  \n",
      "7           NaN          NaN          NaN          NaN          NaN  \n",
      "8           NaN          NaN          NaN          NaN          NaN  \n",
      "9           NaN          NaN          NaN          NaN          NaN  \n",
      "10          NaN          NaN          NaN          NaN          NaN  \n",
      "11          NaN          NaN          NaN          NaN          NaN  \n",
      "12          NaN          NaN          NaN          NaN          NaN  \n",
      "13          NaN          NaN          NaN          NaN          NaN  \n",
      "14          NaN          NaN          NaN          NaN          NaN  \n",
      "15          NaN          NaN          NaN          NaN          NaN  \n",
      "16          NaN          NaN          NaN          NaN          NaN  \n",
      "17          NaN          NaN          NaN          NaN          NaN  \n",
      "18          NaN          NaN          NaN          NaN          NaN  \n",
      "19          NaN          NaN          NaN          NaN          NaN  \n",
      "20          NaN          NaN          NaN          NaN          NaN  \n",
      "21          NaN          NaN          NaN          NaN          NaN  \n",
      "22          NaN          NaN          NaN          NaN          NaN  \n",
      "23          NaN          NaN          NaN          NaN          NaN  \n",
      "24          NaN          NaN          NaN          NaN          NaN  \n",
      "25          NaN          NaN          NaN          NaN          NaN  \n",
      "26          NaN          NaN          NaN          NaN          NaN  \n",
      "27          NaN          NaN          NaN          NaN          NaN  \n",
      "28          NaN          NaN          NaN          NaN          NaN  \n",
      "29          NaN          NaN          NaN          NaN          NaN  \n",
      "30          NaN          NaN          NaN          NaN          NaN  \n",
      "31          NaN          NaN          NaN          NaN          NaN  \n",
      "32          NaN          NaN          NaN          NaN          NaN  \n",
      "33          NaN          NaN          NaN          NaN          NaN  \n",
      "34          NaN          NaN          NaN          NaN          NaN  \n",
      "35          NaN          NaN          NaN          NaN          NaN  \n",
      "36          NaN          NaN          NaN          NaN          NaN  \n",
      "37          NaN          NaN          NaN          NaN          NaN  \n",
      "38          NaN          NaN          NaN          NaN          NaN  \n",
      "39          NaN          NaN          NaN          NaN          NaN  \n",
      "40          NaN          NaN          NaN          NaN          NaN  \n",
      "41          NaN          NaN          NaN          NaN          NaN  \n",
      "42          NaN          NaN          NaN          NaN          NaN  \n",
      "43          NaN          NaN          NaN          NaN          NaN  \n"
     ]
    }
   ],
   "source": [
    "import pandas as pd\n",
    "\n",
    "table = pd.read_csv(\"penduduk_gender_head.csv\")\n",
    "table.head()\n",
    "print(table)"
   ]
  },
  {
   "cell_type": "markdown",
   "metadata": {},
   "source": [
    "--------------------\n",
    "---------------------"
   ]
  },
  {
   "cell_type": "markdown",
   "metadata": {},
   "source": [
    "# 8. Grafik Dasar dengan Matplotlib"
   ]
  },
  {
   "cell_type": "markdown",
   "metadata": {},
   "source": [
    "Grafik merupakan salah satu perangkat visualisasi. Visualisasi sendiri sudah menjadi salah satu challenge atau poin penting dalam data science. Selain bisa mempermudah seseorang untuk memahami data, bagi para data scientist visualisasi bisa meningkatkan analisa atau memunculkan knowledge yang tidak sempat terekspose ketika tidak menggunakan visualisasi. Pada sesi kali ini, kita akan menggunakan matplotlib untuk melakukan visualisasi data yang sudah ada.\n",
    "\n",
    "Sebelumnya harus menginstall dulu setidaknya library pandas, numpy, dan matplotlib."
   ]
  },
  {
   "cell_type": "markdown",
   "metadata": {},
   "source": [
    "### a) Bar Chart"
   ]
  },
  {
   "cell_type": "markdown",
   "metadata": {},
   "source": [
    "Sebelum masuk pada membuat grafik bar, kita akan membahas library yang akan gunakan. Pada Python sangat banyak library untuk visualisasi. Salah satu yang paling sering digunakan adalah matplotlib karena memang sudah lama dan relatif stabil dalam perkembangannya. Maka dari itu, matplotlib dipilih untuk belajar visualisasi pada sesi kali ini. Matplotlib sendiri menyediakan banyak jenis grafik mulai dari scatter/plot, line, bar, dan lain-lain. Pada praktek ini, ada tambahan library selain dengan menggunakan matplotlib dan pandas, kita akan menggunakan numpy. Numpy sendiri pada praktek kali ini digunakan untuk melakukan manipulasi data dari csv untuk memudahkan visualisasi.\n",
    "\n",
    "Ketikan kode di bawah ini :"
   ]
  },
  {
   "cell_type": "code",
   "execution_count": 37,
   "metadata": {},
   "outputs": [
    {
     "data": {
      "image/png": "[encoded data removed]",
      "text/plain": [
       "<Figure size 432x288 with 1 Axes>"
      ]
     },
     "metadata": {
      "needs_background": "light"
     },
     "output_type": "display_data"
    }
   ],
   "source": [
    "import pandas as pd\n",
    "import numpy as np\n",
    "import matplotlib.pyplot as plt\n",
    "\n",
    "\n",
    "table = pd.read_csv(\"penduduk_gender_head.csv\")\n",
    "table.head()\n",
    "x_label = table['NAMA KELURAHAN']\n",
    "plt.bar(x=np.arange(len(x_label)),height=table['LAKI-LAKI WNI'])\n",
    "plt.show()"
   ]
  },
  {
   "cell_type": "markdown",
   "metadata": {},
   "source": [
    "### b) Parameter dalam Grafik (Memberikan Nilai Axis dari data CSV)"
   ]
  },
  {
   "cell_type": "markdown",
   "metadata": {},
   "source": [
    "Jika ditelisik lebih dalam pada CSV, disitu ada nama kelurahan yang merupakan variabel atau seharusnya menjadi nilai AXIS pada grafik ini. Di praktek kali ini, kita akan mencoba bagaimana menempatkan nama kelurahan pada grafik."
   ]
  },
  {
   "cell_type": "code",
   "execution_count": 40,
   "metadata": {},
   "outputs": [
    {
     "data": {
      "image/png": "[encoded data removed]",
      "text/plain": [
       "<Figure size 432x288 with 1 Axes>"
      ]
     },
     "metadata": {
      "needs_background": "light"
     },
     "output_type": "display_data"
    }
   ],
   "source": [
    "import pandas as pd\n",
    "import numpy as np\n",
    "import matplotlib.pyplot as plt\n",
    "\n",
    "table = pd.read_csv(\"https://academy.dqlab.id/dataset/penduduk_gender_head.csv\")\n",
    "table.head()\n",
    "\n",
    "x_label = table['NAMA KELURAHAN']\n",
    "plt.bar(x=np.arange(len(x_label)),height=table['LAKI-LAKI WNI'])\n",
    "plt.xticks(np.arange(len(x_label)), table['NAMA KELURAHAN'], rotation=30)\n",
    "plt.show()"
   ]
  },
  {
   "cell_type": "markdown",
   "metadata": {},
   "source": [
    "### c) Menambah Title dan Label pada Grafik"
   ]
  },
  {
   "cell_type": "markdown",
   "metadata": {},
   "source": [
    "Pada implementasi grafik, penting nyatanya untuk memberikan label pada AXIS dan Ordinat untuk menjelaskan maksud grafik. Pada Praktek kali ini, kita akan mencoba memberikan label dan title pada grafik yang telah dibuat sebelumnya.\n",
    "\n",
    "Cobalah ketika kode di bawah ini :"
   ]
  },
  {
   "cell_type": "code",
   "execution_count": 41,
   "metadata": {},
   "outputs": [
    {
     "data": {
      "image/png": "[encoded data removed]",
      "text/plain": [
       "<Figure size 432x288 with 1 Axes>"
      ]
     },
     "metadata": {
      "needs_background": "light"
     },
     "output_type": "display_data"
    }
   ],
   "source": [
    "import pandas as pd\n",
    "import numpy as np\n",
    "import matplotlib.pyplot as plt\n",
    "\n",
    "\n",
    "table = pd.read_csv(\"https://academy.dqlab.id/dataset/penduduk_gender_head.csv\")\n",
    "table.head()\n",
    "\n",
    "x_label = table['NAMA KELURAHAN']\n",
    "plt.bar(x=np.arange(len(x_label)),height=table['LAKI-LAKI WNI'])\n",
    "plt.xticks(np.arange(len(x_label)), table['NAMA KELURAHAN'], rotation=90)\n",
    "plt.xlabel('Keluarahan di Jakarta pusat')\n",
    "plt.ylabel('Jumlah Penduduk Laki - Laki')\n",
    "plt.title('Persebaran Jumlah Penduduk Laki- Laki di Jakarta Pusat')\n",
    "\n",
    "plt.show()"
   ]
  },
  {
   "cell_type": "markdown",
   "metadata": {},
   "source": [
    "--------------\n",
    "--------------\n",
    "-------------"
   ]
  }
 ],
 "metadata": {
  "kernelspec": {
   "display_name": "Python 3",
   "language": "python",
   "name": "python3"
  },
  "language_info": {
   "codemirror_mode": {
    "name": "ipython",
    "version": 3
   },
   "file_extension": ".py",
   "mimetype": "text/x-python",
   "name": "python",
   "nbconvert_exporter": "python",
   "pygments_lexer": "ipython3",
   "version": "3.9.0"
  }
 },
 "nbformat": 4,
 "nbformat_minor": 4
}
